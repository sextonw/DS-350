{
 "cells": [
  {
   "cell_type": "markdown",
   "id": "d635351e",
   "metadata": {},
   "source": [
    "# An introduction to Polars\n",
    "\n",
    "This demo shows off the basics of polars.\n",
    "\n",
    "[Polars User Guide](https://pola-rs.github.io/polars-book/user-guide/index.html)\n",
    "\n",
    "[Polars API](https://pola-rs.github.io/polars/py-polars/html/reference/)"
   ]
  },
  {
   "cell_type": "code",
   "execution_count": null,
   "id": "4f5329ea",
   "metadata": {},
   "outputs": [],
   "source": [
    "# Install polars\n",
    "!pip install polars"
   ]
  },
  {
   "cell_type": "code",
   "execution_count": null,
   "id": "b5afaec0",
   "metadata": {},
   "outputs": [],
   "source": [
    "# Imports\n",
    "\n",
    "import polars as pl\n",
    "import pandas as pd\n",
    "import time"
   ]
  },
  {
   "cell_type": "markdown",
   "id": "6608445d",
   "metadata": {},
   "source": [
    "# Load data from a csv\n",
    "\n",
    "Batting Table in Baseball Database from Project 3 of DS 250\n",
    "\n",
    "[Data dictionary](https://query.data.world/s/c3tdzy3tscdeqqajz3svl5w5yjbqnu)\n"
   ]
  },
  {
   "cell_type": "code",
   "execution_count": null,
   "id": "e7c4a32a",
   "metadata": {},
   "outputs": [],
   "source": [
    "# Loading data from csv\n",
    "\n",
    "df = pl.read_csv(\"https://query.data.world/s/ikeqerehorky64m2il2vp4m4e3jrea\")"
   ]
  },
  {
   "cell_type": "code",
   "execution_count": null,
   "id": "c15fdfef",
   "metadata": {},
   "outputs": [],
   "source": [
    "# Inspect some dataframe properties\n",
    "\n",
    "print(\"Dataframe Schema\")\n",
    "print(df.schema)\n",
    "\n",
    "print(\"-------------------------------------------------------------------------------------\")\n",
    "\n",
    "print(\"Data shape\")\n",
    "print(df.shape)"
   ]
  },
  {
   "cell_type": "code",
   "execution_count": null,
   "id": "04bc7c18",
   "metadata": {},
   "outputs": [],
   "source": [
    "# Inspect the first few rows\n",
    "\n",
    "df.head()"
   ]
  },
  {
   "cell_type": "markdown",
   "id": "a1b7b65b",
   "metadata": {},
   "source": [
    "# Select, Filter,  and New Columns"
   ]
  },
  {
   "cell_type": "code",
   "execution_count": null,
   "id": "12be9984",
   "metadata": {},
   "outputs": [],
   "source": [
    "# Use select to grab a subset of columns\n",
    "\n",
    "df.select(\n",
    "    [\"playerID\", \"yearID\", \"H\"]\n",
    ")"
   ]
  },
  {
   "cell_type": "code",
   "execution_count": null,
   "id": "88234b3f",
   "metadata": {},
   "outputs": [],
   "source": [
    "# You can also do computations inside select.\n",
    "\n",
    "df.select(\n",
    "    [\n",
    "        pl.count().alias(\"Num Rows\"),\n",
    "        pl.col(\"G\").sum().alias(\"Sum of G\")\n",
    "    ]\n",
    ")"
   ]
  },
  {
   "cell_type": "code",
   "execution_count": null,
   "id": "27e056cd",
   "metadata": {},
   "outputs": [],
   "source": [
    "# Use filter to grab a subset of records that satisfy some condition\n",
    "\n",
    "df.filter(\n",
    "    pl.col(\"yearID\")==2000\n",
    ")"
   ]
  },
  {
   "cell_type": "code",
   "execution_count": null,
   "id": "727c2b70",
   "metadata": {},
   "outputs": [],
   "source": [
    "# Use with_columns to create new columns from existing ones. Serves similar purpose as mutate in R.\n",
    "\n",
    "df.with_columns(\n",
    "    [\n",
    "        (pl.col(\"HR\")+1).alias(\"Extra HR\"),\n",
    "        (pl.col(\"HR\")-1).alias(\"Fewer HR\")\n",
    "    ]\n",
    ")"
   ]
  },
  {
   "cell_type": "markdown",
   "id": "1542684c",
   "metadata": {},
   "source": [
    "# Group by aggregations"
   ]
  },
  {
   "cell_type": "code",
   "execution_count": null,
   "id": "d818aa54",
   "metadata": {},
   "outputs": [],
   "source": [
    "# Use groupby(...).agg(...) for crosstab aggregations.\n",
    "\n",
    "df.groupby(\"yearID\").agg(\n",
    "    pl.col(\"HR\").max().alias(\"Max HR\")\n",
    ")"
   ]
  },
  {
   "cell_type": "code",
   "execution_count": null,
   "id": "f71ceeb6",
   "metadata": {},
   "outputs": [],
   "source": [
    "# Chain operations\n",
    "\n",
    "# Adds a batting average column for all players with at least one appearance at bat.\n",
    "# Then computes the average batting average by year.\n",
    "\n",
    "df.select(\n",
    "    \"yearID\",\n",
    "    \"AB\", # at bat\n",
    "    \"H\" # hits\n",
    ").filter(\n",
    "    pl.col(\"AB\") > 0\n",
    ").with_columns(\n",
    "    (pl.col(\"H\") / pl.col(\"AB\")).alias(\"Batting Avg\")\n",
    ").groupby(\n",
    "    \"yearID\"\n",
    ").agg(\n",
    "    pl.col(\"Batting Avg\").mean().alias(\"Avg Batting Avg\")\n",
    ")"
   ]
  },
  {
   "cell_type": "markdown",
   "id": "a6050bc9",
   "metadata": {},
   "source": [
    "# Missing Data Exercise\n",
    "\n",
    "You have probably learned a few different methods for dealing with missing data such as dropping the missing values or replacing missing values by the mean or median value of the existing values. In small groups, \n",
    "\n",
    "- decide on a strategy for handling the missing values in the RBI column.\n",
    "- search for a way to implement the solution looking through the Polars User Guide or API\n",
    "- implement your strategy\n"
   ]
  },
  {
   "cell_type": "code",
   "execution_count": null,
   "id": "58de2294",
   "metadata": {},
   "outputs": [],
   "source": [
    "# Missing Data, represented as \"null\" in polars\n",
    "\n",
    "df[\"RBI\"].null_count()"
   ]
  },
  {
   "cell_type": "code",
   "execution_count": null,
   "id": "29f8f030",
   "metadata": {},
   "outputs": [],
   "source": [
    "# Implement your method for handling missing data here\n",
    "\n",
    "nullless_rbi = ..."
   ]
  },
  {
   "cell_type": "code",
   "execution_count": null,
   "id": "37562fed",
   "metadata": {},
   "outputs": [],
   "source": [
    "# This count should return 0.\n",
    "\n",
    "nullless_rbi[\"RBI\"].null_count()"
   ]
  },
  {
   "cell_type": "markdown",
   "id": "380ba55f",
   "metadata": {},
   "source": [
    "# Eager vs Lazy\n",
    "\n",
    "Pandas is eager and Spark is lazy. Polar supports both evaluation paradigms.\n",
    "\n",
    "Excerpt from Polars user guide.\n",
    ">Eager evaluation is where code is evaluated as soon as you run the code. Lazy evaluation is where running a line of code means that the underlying logic is added to a query plan rather than being evaluated.\n",
    "\n",
    "Building a query plan allows for more efficient query evaluation on large-scale programs.\n"
   ]
  },
  {
   "cell_type": "code",
   "execution_count": null,
   "id": "1228d9f2",
   "metadata": {},
   "outputs": [],
   "source": [
    "# Simply add lazy() to the start of your query.\n",
    "\n",
    "df.lazy().select(\n",
    "    \"yearID\",\n",
    "    \"AB\", # at bat\n",
    "    \"H\" # hits\n",
    ").filter(\n",
    "    pl.col(\"AB\") > 0\n",
    ").with_columns(\n",
    "    (pl.col(\"H\") / pl.col(\"AB\")).alias(\"Batting Avg\")\n",
    ").groupby(\n",
    "    \"yearID\"\n",
    ").agg(\n",
    "    pl.col(\"Batting Avg\").mean().alias(\"Avg Batting Avg\")\n",
    ")"
   ]
  },
  {
   "cell_type": "code",
   "execution_count": null,
   "id": "0ccdf39f",
   "metadata": {},
   "outputs": [],
   "source": [
    "# Use collect() to materialize the results\n",
    "\n",
    "df.lazy().select(\n",
    "    \"yearID\",\n",
    "    \"AB\", # at bat\n",
    "    \"H\" # hits\n",
    ").filter(\n",
    "    pl.col(\"AB\") > 0\n",
    ").with_columns(\n",
    "    (pl.col(\"H\") / pl.col(\"AB\")).alias(\"Batting Avg\")\n",
    ").groupby(\n",
    "    \"yearID\"\n",
    ").agg(\n",
    "    pl.col(\"Batting Avg\").mean().alias(\"Avg Batting Avg\")\n",
    ").collect()"
   ]
  },
  {
   "cell_type": "code",
   "execution_count": null,
   "id": "253a5ac7",
   "metadata": {},
   "outputs": [],
   "source": [
    "# Caching\n",
    "\n",
    "bat_avg_df = df.lazy().select(\n",
    "    \"yearID\",\n",
    "    \"teamID\",\n",
    "    \"AB\", # at bat\n",
    "    \"H\" # hits\n",
    ").filter(\n",
    "    pl.col(\"AB\") > 0\n",
    ").with_columns(\n",
    "    (pl.col(\"H\") / pl.col(\"AB\")).alias(\"Batting Avg\")\n",
    ").cache()\n",
    "\n",
    "\n",
    "print(\n",
    "    bat_avg_df.groupby(\n",
    "        \"yearID\"\n",
    "    ).agg(\n",
    "        pl.col(\"Batting Avg\").mean().alias(\"Avg Batting Avg\")\n",
    "    )\n",
    ")\n",
    "\n",
    "print(\n",
    "    bat_avg_df.groupby(\n",
    "        [\"yearID\", \"teamID\"] \n",
    "    ).agg(\n",
    "        pl.col(\"Batting Avg\").mean().alias(\"Avg Batting Avg\")\n",
    "    )\n",
    ")"
   ]
  },
  {
   "cell_type": "markdown",
   "id": "4eaa6922",
   "metadata": {},
   "source": [
    "# Arrow, Parquet: Need for Speed\n",
    "\n",
    "[Parquet](https://parquet.apache.org/) is an \"on-disk\" storage alternative to formats like \"csv\". Parquet store data by column instead of by row.\n",
    "\n",
    "[Arrow](https://arrow.apache.org/) is an \"in-memory\" column-oriented data structure.\n",
    "\n",
    "Arrow and Parquet are very efficient.\n",
    "\n",
    "See [10 things I hate about pandas](https://wesmckinney.com/blog/apache-arrow-pandas-internals/)\n",
    "\n",
    "Polars is built on top of Arrow."
   ]
  },
  {
   "cell_type": "markdown",
   "id": "9dc6e243",
   "metadata": {},
   "source": [
    "# REMINDER: DO NOT RUN IN CLASS"
   ]
  },
  {
   "cell_type": "code",
   "execution_count": null,
   "id": "1c7372a7",
   "metadata": {},
   "outputs": [],
   "source": [
    "# We need a bigger dataset.\n",
    "\n",
    "# Do not run this in class!!!\n",
    "\n",
    "bigdata = df.sample(100000000, with_replacement=True)\n",
    "\n",
    "bigdata.write_parquet(\"baseball.parquet\")\n",
    "bigdata.write_csv(\"baseball.csv\")"
   ]
  },
  {
   "cell_type": "markdown",
   "id": "8c49c56e",
   "metadata": {},
   "source": [
    "# DEMO THESE CELLS, STUDENTS WON'T BE ABLE TO RUN"
   ]
  },
  {
   "cell_type": "code",
   "execution_count": null,
   "id": "077306af",
   "metadata": {},
   "outputs": [],
   "source": [
    "start = time.time()\n",
    "\n",
    "# scan instead of read begins lazy evaluation from the get go.\n",
    "df = pl.scan_parquet(\"baseball.parquet\")\n",
    "\n",
    "df.select(\n",
    "    \"yearID\",\n",
    "    \"AB\",\n",
    "    \"H\"\n",
    ").filter(\n",
    "    pl.col(\"AB\") > 0\n",
    ").with_columns(\n",
    "    (pl.col(\"H\") / pl.col(\"AB\")).alias(\"Batting Avg\")\n",
    ").groupby(\n",
    "    \"yearID\"\n",
    ").agg(\n",
    "    pl.col(\"Batting Avg\").mean().alias(\"Avg Batting Avg\")\n",
    ").collect()\n",
    "\n",
    "elapsed = time.time() - start\n",
    "print(elapsed)"
   ]
  },
  {
   "cell_type": "code",
   "execution_count": null,
   "id": "16595f8a",
   "metadata": {},
   "outputs": [],
   "source": [
    "start = time.time()\n",
    "pdf = pd.read_parquet(\"baseball.parquet\", columns=[\"yearID\", \"AB\", \"H\"])\n",
    "pdf = pdf[[\"yearID\", \"AB\", \"H\"]]\n",
    "pdf = pdf[pdf[\"AB\"] > 0].reset_index()\n",
    "pdf[\"BA\"] = (pdf[\"H\"] / pdf[\"AB\"])\n",
    "pdf = pdf.groupby(\"yearID\").BA.agg(\"mean\")\n",
    "elapsed = time.time() - start\n",
    "print(elapsed)"
   ]
  },
  {
   "cell_type": "code",
   "execution_count": null,
   "id": "31ddf0b9",
   "metadata": {},
   "outputs": [],
   "source": [
    "start = time.time()\n",
    "pdf = pd.read_csv(\"baseball.csv\", usecols=[\"yearID\", \"AB\", \"H\"])\n",
    "pdf = pdf[[\"yearID\", \"AB\", \"H\"]]\n",
    "pdf = pdf[pdf[\"AB\"] > 0].reset_index()\n",
    "pdf[\"BA\"] = (pdf[\"H\"] / pdf[\"AB\"])\n",
    "pdf = pdf.groupby(\"yearID\").BA.agg(\"mean\")\n",
    "elapsed = time.time() - start\n",
    "print(elapsed)"
   ]
  },
  {
   "cell_type": "markdown",
   "id": "2d374d01",
   "metadata": {},
   "source": [
    "# Teach One Another Exercise\n",
    "\n",
    "- Discover something new about polars. Think of a topic that you do frequently in data science and spend some time figure out whether polars supports it!"
   ]
  },
  {
   "cell_type": "code",
   "execution_count": null,
   "id": "f184af60",
   "metadata": {},
   "outputs": [],
   "source": []
  }
 ],
 "metadata": {
  "kernelspec": {
   "display_name": "Python 3 (ipykernel)",
   "language": "python",
   "name": "python3"
  },
  "language_info": {
   "codemirror_mode": {
    "name": "ipython",
    "version": 3
   },
   "file_extension": ".py",
   "mimetype": "text/x-python",
   "name": "python",
   "nbconvert_exporter": "python",
   "pygments_lexer": "ipython3",
   "version": "3.9.7"
  }
 },
 "nbformat": 4,
 "nbformat_minor": 5
}
